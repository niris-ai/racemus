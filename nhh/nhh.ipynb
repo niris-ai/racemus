{
 "cells": [
  {
   "cell_type": "code",
   "execution_count": null,
   "metadata": {},
   "outputs": [],
   "source": [
    "import psycopg2\n",
    "import datetime\n",
    "import matplotlib.pyplot as plt\n",
    "import pandas as pd\n",
    "import math"
   ]
  },
  {
   "cell_type": "code",
   "execution_count": 61,
   "metadata": {},
   "outputs": [],
   "source": [
    "conn = psycopg2.connect(\"dbname=DBNAME user=DBUSER host=HOST port=5432 password=PASS\")\n",
    "cur = conn.cursor()\n",
    "cur.execute(\"SELECT time, value FROM aggregations.ambient_temp_by_hour WHERE time >= FROM AND time < TO AND labels ? ('sensor' == 'sensor_label') ORDER BY 1;\")\n",
    "data = cur.fetchall()\n",
    "\n",
    "# dates = [el[0].isoformat() for el in data]\n",
    "hourly_temps = [float(el[1]) for el in data]\n",
    "\n",
    "cur.close()\n",
    "conn.close()"
   ]
  },
  {
   "cell_type": "code",
   "execution_count": 62,
   "metadata": {},
   "outputs": [],
   "source": [
    "a = math.log(2/(math.log(23/11)))\n",
    "\n",
    "nhh = []\n",
    "for i in range(len(hourly_temps)):\n",
    "  val = (2 * math.pow(max(hourly_temps[i] - 7, 0), a) * math.pow(11, a) * math.pow(max(hourly_temps[i] - 7, 0), 2 * a)) / math.pow(11, 2 * a)\n",
    "  if i == 0:\n",
    "    nhh.append(round(val, 2))\n",
    "  else:\n",
    "    nhh.append(round(val + nhh[i - 1], 2))"
   ]
  },
  {
   "cell_type": "code",
   "execution_count": 70,
   "metadata": {},
   "outputs": [
    {
     "data": {
      "text/plain": [
       "2296021.12"
      ]
     },
     "execution_count": 70,
     "metadata": {},
     "output_type": "execute_result"
    }
   ],
   "source": [
    "nhh[-1]"
   ]
  },
  {
   "cell_type": "code",
   "execution_count": 67,
   "metadata": {},
   "outputs": [],
   "source": [
    "conn = psycopg2.connect(\"dbname=DBNAME user=DBUSER host=HOST port=5432 password=PASS\")\n",
    "cur = conn.cursor()\n",
    "cur.execute(\"SELECT time, value FROM aggregations.ambient_temp_by_day WHERE time >= FROM AND time < TO AND labels ? ('sensor' == 'sensor_label') ORDER BY 1;\")\n",
    "data = cur.fetchall()\n",
    "\n",
    "dates = [el[0].isoformat() for el in data]\n",
    "daily_temps = [float(el[1]) for el in data]\n",
    "\n",
    "cur.close()\n",
    "conn.close()"
   ]
  },
  {
   "cell_type": "code",
   "execution_count": 68,
   "metadata": {},
   "outputs": [],
   "source": [
    "a = math.log(2/(math.log(23/11)))\n",
    "\n",
    "nhh_2 = []\n",
    "for i in range(len(daily_temps)):\n",
    "  val = (2 * math.pow(max(daily_temps[i] - 7, 0), a) * math.pow(11, a) * math.pow(max(daily_temps[i] - 7, 0), 2 * a)) / math.pow(11, 2 * a)\n",
    "  if i == 0:\n",
    "    nhh_2.append(round(val, 2))\n",
    "  else:\n",
    "    nhh_2.append(round(val + nhh_2[i - 1], 2))"
   ]
  },
  {
   "cell_type": "code",
   "execution_count": 71,
   "metadata": {},
   "outputs": [
    {
     "data": {
      "text/plain": [
       "57137.24"
      ]
     },
     "execution_count": 71,
     "metadata": {},
     "output_type": "execute_result"
    }
   ],
   "source": [
    "nhh_2[-1]"
   ]
  }
 ],
 "metadata": {
  "kernelspec": {
   "display_name": "Python 3.9.7 ('base')",
   "language": "python",
   "name": "python3"
  },
  "language_info": {
   "codemirror_mode": {
    "name": "ipython",
    "version": 3
   },
   "file_extension": ".py",
   "mimetype": "text/x-python",
   "name": "python",
   "nbconvert_exporter": "python",
   "pygments_lexer": "ipython3",
   "version": "3.9.7"
  },
  "orig_nbformat": 4,
  "vscode": {
   "interpreter": {
    "hash": "ec757111aa82fc412dab5a41ba1a33fdb6db5c8112df3ff06fec0dbff050b412"
   }
  }
 },
 "nbformat": 4,
 "nbformat_minor": 2
}
